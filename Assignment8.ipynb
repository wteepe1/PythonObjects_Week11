{
 "cells": [
  {
   "cell_type": "markdown",
   "metadata": {},
   "source": [
    "# Assignment 8"
   ]
  },
  {
   "cell_type": "markdown",
   "metadata": {},
   "source": [
    "### 3 questions\n",
    "1. During which month is the water typically the warmest? \n",
    "2. At what depth is the water the coldest in September for 2016-2019 data? \n",
    "3. What is the most common temperature at 40m?"
   ]
  },
  {
   "cell_type": "code",
   "execution_count": 1,
   "metadata": {
    "collapsed": true
   },
   "outputs": [],
   "source": [
    "import matplotlib.pyplot as plt\n",
    "import copy\n",
    "import re\n",
    "from statistics import mean"
   ]
  },
  {
   "cell_type": "markdown",
   "metadata": {
    "collapsed": true
   },
   "source": [
    "#### Question 1: During which month is the water typically the warmest?"
   ]
  },
  {
   "cell_type": "code",
   "execution_count": 2,
   "metadata": {},
   "outputs": [
    {
     "name": "stdout",
     "output_type": "stream",
     "text": [
      "2.39\n"
     ]
    }
   ],
   "source": [
    "#reads file and gets average temperature for January\n",
    "\n",
    "Data1 = open(\"kirchner-2020-M1_2016-2019_10m_BelowLakeLevel.csv\",'r')\n",
    "Month_1 = re.findall(r\"\\n1.+,(\\w+.+)\\n\", Data1.read())\n",
    "Month1 = []\n",
    "for i in range(len(Month_1)):\n",
    "   b = int(float(Month_1[i-1]))\n",
    "   Month1.append(b)\n",
    "Data1.close()\n",
    "avg1= round(mean(Month1),2)\n",
    "print(avg1)"
   ]
  },
  {
   "cell_type": "code",
   "execution_count": 3,
   "metadata": {},
   "outputs": [
    {
     "name": "stdout",
     "output_type": "stream",
     "text": [
      "2.33\n"
     ]
    }
   ],
   "source": [
    "#reads file and sgets average temperature for month2\n",
    "Data1 = open(\"kirchner-2020-M1_2016-2019_10m_BelowLakeLevel.csv\",'r')\n",
    "Month_2 = re.findall(r\"\\n2.+,(\\w+.+)\\n\", Data1.read())\n",
    "Month2 = []\n",
    "for i in range(len(Month_2)):\n",
    "   b = int(float(Month_2[i-1]))\n",
    "   Month2.append(b)\n",
    "Data1.close()\n",
    "avg2= round(mean(Month2),2)\n",
    "print(avg2)"
   ]
  },
  {
   "cell_type": "code",
   "execution_count": 4,
   "metadata": {},
   "outputs": [
    {
     "name": "stdout",
     "output_type": "stream",
     "text": [
      "2.33\n"
     ]
    }
   ],
   "source": [
    "#reads file and sgets average temperature for month3\n",
    "Data1 = open(\"kirchner-2020-M1_2016-2019_10m_BelowLakeLevel.csv\",'r')\n",
    "Month_3 = re.findall(r\"\\n3.+,(\\w+.+)\\n\", Data1.read())\n",
    "Month3 = []\n",
    "for i in range(len(Month_3)):\n",
    "   b = int(float(Month_3[i-1]))\n",
    "   Month3.append(b)\n",
    "Data1.close()\n",
    "avg3= round(mean(Month3),2)\n",
    "print(avg3)"
   ]
  },
  {
   "cell_type": "code",
   "execution_count": 5,
   "metadata": {},
   "outputs": [
    {
     "name": "stdout",
     "output_type": "stream",
     "text": [
      "2.33\n"
     ]
    }
   ],
   "source": [
    "#reads file and gets average temperature for month4\n",
    "Data1 = open(\"kirchner-2020-M1_2016-2019_10m_BelowLakeLevel.csv\",'r')\n",
    "Month_4 = re.findall(r\"\\n4.+,(\\w+.+)\\n\", Data1.read())\n",
    "Month4 = []\n",
    "for i in range(len(Month_4)):\n",
    "   if Month_4[i-1] == \"NaN\":\n",
    "      del Month_4[i-1]\n",
    "   else:\n",
    "      Month4.append(int(float(Month_4[i-1])))\n",
    "Data1.close()\n",
    "avg4= round(mean(Month4),2)\n",
    "print(avg4)"
   ]
  },
  {
   "cell_type": "code",
   "execution_count": 6,
   "metadata": {},
   "outputs": [
    {
     "name": "stdout",
     "output_type": "stream",
     "text": [
      "2.33\n"
     ]
    }
   ],
   "source": [
    "#reads file and gets average temperature for month5\n",
    "Data1 = open(\"kirchner-2020-M1_2016-2019_10m_BelowLakeLevel.csv\",'r')\n",
    "Month_5 = re.findall(r\"\\n5.+,(\\w+.+)\\n\", Data1.read())\n",
    "Month5 = []\n",
    "for i in range(len(Month_5)):\n",
    "   b = int(float(Month_5[i-1]))\n",
    "   Month5.append(b)\n",
    "Data1.close()\n",
    "avg5= round(mean(Month5),2)\n",
    "print(avg5)"
   ]
  },
  {
   "cell_type": "code",
   "execution_count": 7,
   "metadata": {},
   "outputs": [
    {
     "name": "stdout",
     "output_type": "stream",
     "text": [
      "2.33\n"
     ]
    }
   ],
   "source": [
    "#reads file and gets average temperature for month6\n",
    "Data1 = open(\"kirchner-2020-M1_2016-2019_10m_BelowLakeLevel.csv\",'r')\n",
    "Month_6 = re.findall(r\"\\n6.+,(\\w+.+)\\n\", Data1.read())\n",
    "Month6 = []\n",
    "for i in range(len(Month_6)):\n",
    "   b = int(float(Month_6[i-1]))\n",
    "   Month6.append(b)\n",
    "Data1.close()\n",
    "avg6= round(mean(Month6),2)\n",
    "print(avg6)"
   ]
  },
  {
   "cell_type": "code",
   "execution_count": 8,
   "metadata": {},
   "outputs": [
    {
     "name": "stdout",
     "output_type": "stream",
     "text": [
      "3.05\n"
     ]
    }
   ],
   "source": [
    "#reads file and gets average temperature for month7\n",
    "Data1 = open(\"kirchner-2020-M1_2016-2019_10m_BelowLakeLevel.csv\",'r')\n",
    "Month_7 = re.findall(r\"7.+,(\\w+.+)\", Data1.read())\n",
    "Month7 = []\n",
    "for i in range(len(Month_4)):\n",
    "   if Month_7[i-1] == \"NaN\":\n",
    "      del Month_7[i-1]\n",
    "   else:\n",
    "      Month7.append(int(float(Month_7[i-1])))\n",
    "Data1.close()\n",
    "avg7= round(mean(Month7),2)\n",
    "print(avg7)"
   ]
  },
  {
   "cell_type": "code",
   "execution_count": 9,
   "metadata": {},
   "outputs": [
    {
     "name": "stdout",
     "output_type": "stream",
     "text": [
      "4.37\n"
     ]
    }
   ],
   "source": [
    "#reads file and gets average temperature for month8\n",
    "Data1 = open(\"kirchner-2020-M1_2016-2019_10m_BelowLakeLevel.csv\",'r')\n",
    "Month_8 = re.findall(r\"\\n8.+:..,(\\w+.+)\\n\", Data1.read())\n",
    "Month8 = []\n",
    "for i in range(len(Month_8)):\n",
    "   if Month_8[i-1] == \"NaN\":\n",
    "      del Month_8[i-1]\n",
    "   else:\n",
    "      Month8.append(int(float(Month_8[i-1])))\n",
    "Data1.close()\n",
    "avg8= round(mean(Month8),2)\n",
    "print(avg8)"
   ]
  },
  {
   "cell_type": "code",
   "execution_count": 10,
   "metadata": {},
   "outputs": [
    {
     "name": "stdout",
     "output_type": "stream",
     "text": [
      "3.94\n"
     ]
    }
   ],
   "source": [
    "#reads file and gets average temperature for month9\n",
    "Data1 = open(\"kirchner-2020-M1_2016-2019_10m_BelowLakeLevel.csv\",'r')\n",
    "Month_9 = re.findall(r\"\\n9.+:..,(\\w+.+)\\n\", Data1.read())\n",
    "Month9 = []\n",
    "for i in range(len(Month_9)):\n",
    "   if Month_9[i-1] != \"NaN\":\n",
    "      Month9.append(int(float(Month_9[i-1])))\n",
    "Data1.close()\n",
    "avg9= round(mean(Month9),2)\n",
    "print(avg9)"
   ]
  },
  {
   "cell_type": "code",
   "execution_count": 11,
   "metadata": {},
   "outputs": [
    {
     "name": "stdout",
     "output_type": "stream",
     "text": [
      "2.57\n"
     ]
    }
   ],
   "source": [
    "#reads file and gets average temperature for month10\n",
    "Data1 = open(\"kirchner-2020-M1_2016-2019_10m_BelowLakeLevel.csv\",'r')\n",
    "Month_10 = re.findall(r\"\\n10.+,(\\w+.+)\\n\", Data1.read())\n",
    "Month10 = []\n",
    "for i in range(len(Month_10)):\n",
    "   b = int(float(Month_10[i-1]))\n",
    "   Month10.append(b)\n",
    "Data1.close()\n",
    "avg10= round(mean(Month10),2)\n",
    "print(avg10)"
   ]
  },
  {
   "cell_type": "code",
   "execution_count": 12,
   "metadata": {},
   "outputs": [
    {
     "name": "stdout",
     "output_type": "stream",
     "text": [
      "2.33\n"
     ]
    }
   ],
   "source": [
    "#reads file and gets average temperature for month11\n",
    "Data1 = open(\"kirchner-2020-M1_2016-2019_10m_BelowLakeLevel.csv\",'r')\n",
    "Month_11 = re.findall(r\"\\n11.+,(\\w+.+)\\n\", Data1.read())\n",
    "Month11 = []\n",
    "for i in range(len(Month_11)):\n",
    "   b = int(float(Month_11[i-1]))\n",
    "   Month11.append(b)\n",
    "Data1.close()\n",
    "avg11= round(mean(Month11),2)\n",
    "print(avg11)"
   ]
  },
  {
   "cell_type": "code",
   "execution_count": 13,
   "metadata": {},
   "outputs": [
    {
     "name": "stdout",
     "output_type": "stream",
     "text": [
      "2.39\n"
     ]
    }
   ],
   "source": [
    "#reads file and gets average temperature for month12\n",
    "Data1 = open(\"kirchner-2020-M1_2016-2019_10m_BelowLakeLevel.csv\",'r')\n",
    "Month_12 = re.findall(r\"\\n1.+,(\\w+.+)\\n\", Data1.read())\n",
    "Month12 = []\n",
    "for i in range(len(Month_12)):\n",
    "   b = int(float(Month_12[i-1]))\n",
    "   Month12.append(b)\n",
    "Data1.close()\n",
    "avg12= round(mean(Month12),2)\n",
    "print(avg12)"
   ]
  },
  {
   "cell_type": "code",
   "execution_count": 14,
   "metadata": {},
   "outputs": [
    {
     "data": {
      "image/png": "[encoded data removed]",
      "text/plain": [
       "<matplotlib.figure.Figure at 0x2b72663fd668>"
      ]
     },
     "metadata": {},
     "output_type": "display_data"
    }
   ],
   "source": [
    "#plots each mean as bar graph\n",
    "groups = [\"Jan\",\"Feb\",\"Mar\",\"Apr\",\"May\",\"June\",\"July\",\"Aug\",\"Sep\",\"Oct\",\"Nov\",\"Dec\"]  \n",
    "values = avg1,avg2,avg3,avg4,avg5,avg6,avg7,avg8,avg9,avg10,avg11,avg12 \n",
    "plt.bar([1,2,3,4,5,6,7,8,9,10,11,12],values,tick_label=groups)\n",
    "plt.ylabel(\"Temperature(degrees Celsius)\")\n",
    "plt.xlabel(\"Month\")\n",
    "plt.show()"
   ]
  },
  {
   "cell_type": "markdown",
   "metadata": {},
   "source": [
    "The water is typically the warmest in August. The temperature is fairly constant year round (2.5 degrees), but the temperature warms up by 2 degrees from july to august, then is back to around 2.5 degrees Celsius in October."
   ]
  },
  {
   "cell_type": "markdown",
   "metadata": {},
   "source": [
    "#### Question 2: At what depth is the water the coldest in September for 2016-2019 data? "
   ]
  },
  {
   "cell_type": "code",
   "execution_count": 15,
   "metadata": {},
   "outputs": [
    {
     "name": "stdout",
     "output_type": "stream",
     "text": [
      "3.94\n"
     ]
    }
   ],
   "source": [
    "#opens file and finds average temperature in September for 10m \n",
    "Data1 = open(\"kirchner-2020-M1_2016-2019_10m_BelowLakeLevel.csv\",'r')\n",
    "Month_9 = re.findall(r\"\\n9.+:..,(\\w+.+)\\n\", Data1.read())\n",
    "Month9 = []\n",
    "for i in range(len(Month_9)):\n",
    "   if Month_9[i-1] != \"NaN\":\n",
    "      Month9.append(int(float(Month_9[i-1])))\n",
    "Data1.close()\n",
    "avg9_10m= round(mean(Month9),2)\n",
    "print(avg9_10m)"
   ]
  },
  {
   "cell_type": "code",
   "execution_count": 16,
   "metadata": {},
   "outputs": [
    {
     "name": "stdout",
     "output_type": "stream",
     "text": [
      "3.93\n"
     ]
    }
   ],
   "source": [
    "#opens file and finds average temperature in September for 20m \n",
    "Data1 = open(\"kirchner-2020-M1_2016-2019_20m_BelowLakeLevel.csv\",'r')\n",
    "Month_9 = re.findall(r\"\\n9.+:..,(\\w+.+)\\n\", Data1.read())\n",
    "Month9 = []\n",
    "for i in range(len(Month_9)):\n",
    "   if Month_9[i-1] != \"NaN\":\n",
    "      Month9.append(int(float(Month_9[i-1])))\n",
    "Data1.close()\n",
    "avg9_20m= round(mean(Month9),2)\n",
    "print(avg9_20m)"
   ]
  },
  {
   "cell_type": "code",
   "execution_count": 17,
   "metadata": {},
   "outputs": [
    {
     "name": "stdout",
     "output_type": "stream",
     "text": [
      "3.92\n"
     ]
    }
   ],
   "source": [
    "#opens file and finds average temperature in September for 30m \n",
    "Data1 = open(\"kirchner-2020-M1_2016-2019_30m_BelowLakeLevel.csv\",'r')\n",
    "Month_9 = re.findall(r\"\\n9.+:..,(\\w+.+)\\n\", Data1.read())\n",
    "Month9 = []\n",
    "for i in range(len(Month_9)):\n",
    "   if Month_9[i-1] != \"NaN\":\n",
    "      Month9.append(int(float(Month_9[i-1])))\n",
    "Data1.close()\n",
    "avg9_30m= round(mean(Month9),2)\n",
    "print(avg9_30m)"
   ]
  },
  {
   "cell_type": "code",
   "execution_count": 18,
   "metadata": {},
   "outputs": [
    {
     "name": "stdout",
     "output_type": "stream",
     "text": [
      "3.91\n"
     ]
    }
   ],
   "source": [
    "#opens file and finds average temperature in September for 40m \n",
    "Data1 = open(\"kirchner-2020-M1_2016-2019_40m_BelowLakeLevel.csv\",'r')\n",
    "Month_9 = re.findall(r\"\\n9.+:..,(\\w+.+)\\n\", Data1.read())\n",
    "Month9 = []\n",
    "for i in range(len(Month_9)):\n",
    "   if Month_9[i-1] != \"NaN\":\n",
    "      Month9.append(int(float(Month_9[i-1])))\n",
    "Data1.close()\n",
    "avg9_40m= round(mean(Month9),2)\n",
    "print(avg9_40m)"
   ]
  },
  {
   "cell_type": "code",
   "execution_count": 19,
   "metadata": {
    "collapsed": true
   },
   "outputs": [],
   "source": [
    "#creating variables\n",
    "y= [avg9_10m,avg9_20m,avg9_30m,avg9_40m]\n",
    "x= [\"10\",\"20\",\"30\",\"40\"]"
   ]
  },
  {
   "cell_type": "code",
   "execution_count": 20,
   "metadata": {},
   "outputs": [
    {
     "data": {
      "image/png": "[encoded data removed]",
      "text/plain": [
       "<matplotlib.figure.Figure at 0x2b72663f76d8>"
      ]
     },
     "metadata": {},
     "output_type": "display_data"
    }
   ],
   "source": [
    "#creating plot\n",
    "plt.ylabel(\"Temperature(degrees Celsius)\")\n",
    "plt.xlabel(\"Depth (meters)\")\n",
    "plt.plot(x,y)\n",
    "plt.show()"
   ]
  },
  {
   "cell_type": "markdown",
   "metadata": {},
   "source": [
    "The deeper the water the colder it is. The coldest water measured was at 40m below the surface."
   ]
  },
  {
   "cell_type": "markdown",
   "metadata": {},
   "source": [
    "#### Question 3: What is the most common temperature at 40m?"
   ]
  },
  {
   "cell_type": "code",
   "execution_count": 21,
   "metadata": {},
   "outputs": [
    {
     "name": "stdout",
     "output_type": "stream",
     "text": [
      "25944\n",
      "2.615132593277829\n"
     ]
    }
   ],
   "source": [
    "#temperature at location M1 for 40m\n",
    "Data1 = open(\"kirchner-2020-M1_2016-2019_40m_BelowLakeLevel.csv\",'r')\n",
    "Temp_M1 = re.findall(r\"\\n.+:..,(\\w+.+)\\n\", Data1.read())\n",
    "TempM1 = []\n",
    "for i in range(36): #removes all NaN\n",
    "   Temp_M1.remove(\"NaN\")\n",
    "for i in range(len(Temp_M1)):\n",
    "   TempM1.append(int(float(Temp_M1[i-1])))\n",
    "Data1.close()\n",
    "print(len(TempM1))\n",
    "print(mean(TempM1))"
   ]
  },
  {
   "cell_type": "code",
   "execution_count": 22,
   "metadata": {},
   "outputs": [
    {
     "name": "stdout",
     "output_type": "stream",
     "text": [
      "8772\n",
      "3.0634974920200637\n"
     ]
    }
   ],
   "source": [
    "#temperature at location M2 for 40m\n",
    "Data1 = open(\"kirchner-2020-M2_2016-2017_40m_BelowLakeLevel.csv\",'r')\n",
    "Temp_M2 = re.findall(r\"\\n.+:..,(\\w+.+)\\n\", Data1.read())\n",
    "TempM2 = []\n",
    "for i in range(len(Temp_M2)):\n",
    "   TempM2.append(int(float(Temp_M2[i-1])))\n",
    "Data1.close()\n",
    "print(len(TempM2))\n",
    "print(mean(TempM2))"
   ]
  },
  {
   "cell_type": "code",
   "execution_count": 23,
   "metadata": {},
   "outputs": [
    {
     "name": "stdout",
     "output_type": "stream",
     "text": [
      "34716\n"
     ]
    },
    {
     "data": {
      "image/png": "[encoded data removed]",
      "text/plain": [
       "<matplotlib.figure.Figure at 0x2b726dbce630>"
      ]
     },
     "metadata": {},
     "output_type": "display_data"
    }
   ],
   "source": [
    "#adding data sets together and creating histogram\n",
    "TotalTemp = copy.copy(TempM1)\n",
    "for i in range(len(TempM2)):\n",
    "   TotalTemp.append(TempM2[i-1])\n",
    "print(len(TotalTemp))\n",
    "plt.hist(TotalTemp,3)\n",
    "plt.show()"
   ]
  },
  {
   "cell_type": "markdown",
   "metadata": {
    "collapsed": true
   },
   "source": [
    "The most common tempertature for 40m below the surface is between 2.5 and 3.5 degrees Celsius. With the total range of temperature going from 1 to 5 degrees celcius."
   ]
  }
 ],
 "metadata": {
  "kernelspec": {
   "display_name": "Python 3",
   "language": "python",
   "name": "python3"
  },
  "language_info": {
   "codemirror_mode": {
    "name": "ipython",
    "version": 3
   },
   "file_extension": ".py",
   "mimetype": "text/x-python",
   "name": "python",
   "nbconvert_exporter": "python",
   "pygments_lexer": "ipython3",
   "version": "3.6.2"
  }
 },
 "nbformat": 4,
 "nbformat_minor": 2
}
